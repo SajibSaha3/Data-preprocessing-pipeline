{
 "cells": [
  {
   "cell_type": "markdown",
   "id": "e72454c8",
   "metadata": {},
   "source": [
    "# import necesary library"
   ]
  },
  {
   "cell_type": "code",
   "execution_count": 13,
   "id": "d1af0cff",
   "metadata": {},
   "outputs": [],
   "source": [
    "from sklearn.feature_extraction.text import TfidfVectorizer\n",
    "from sklearn.metrics.pairwise import cosine_similarity\n",
    "import numpy as np"
   ]
  },
  {
   "cell_type": "markdown",
   "id": "fc638e5c",
   "metadata": {},
   "source": [
    "# my questions with answer"
   ]
  },
  {
   "cell_type": "code",
   "execution_count": 2,
   "id": "ce7a9cbd",
   "metadata": {},
   "outputs": [],
   "source": [
    "my_faq_data = {\"Hello sir! How can I help you\": \"Tell me about your services\",\n",
    "                \"Do you have any specific query\": \"Yes! I want to know about your company\",\n",
    "                \"What are the services your company provides\": \"Thank you sir, we mainly focused on medical services in emergency situation\",\n",
    "                \"Do you suppy medicine\": \"No sir! we give free ambulance services and other medical support\",\n",
    "                \"What are the charges criteria?\": \"We do a voluntary work sir! no need to pay\",\n",
    "                \"is there anything else\": \"no thank you and great service\"}"
   ]
  },
  {
   "cell_type": "code",
   "execution_count": 5,
   "id": "31f439bd",
   "metadata": {},
   "outputs": [],
   "source": [
    "my_question = list(my_faq_data.keys())"
   ]
  },
  {
   "cell_type": "markdown",
   "id": "0a6c85f2",
   "metadata": {},
   "source": [
    "# seperate just the questions"
   ]
  },
  {
   "cell_type": "code",
   "execution_count": 6,
   "id": "6a6fd6e0",
   "metadata": {},
   "outputs": [
    {
     "data": {
      "text/plain": [
       "['Hello sir! How can I help you',\n",
       " 'Do you have any specific query',\n",
       " 'What are the services your company provides',\n",
       " 'Do you suppy medicine',\n",
       " 'What are the charges criteria?',\n",
       " 'is there anything else']"
      ]
     },
     "execution_count": 6,
     "metadata": {},
     "output_type": "execute_result"
    }
   ],
   "source": [
    "my_question"
   ]
  },
  {
   "cell_type": "markdown",
   "id": "ba8e5c29",
   "metadata": {},
   "source": [
    "# apply text vectorizer and lower case the text same time to generate same vector for the same data present in lowercase or upper"
   ]
  },
  {
   "cell_type": "code",
   "execution_count": 7,
   "id": "add66445",
   "metadata": {},
   "outputs": [],
   "source": [
    "vec= TfidfVectorizer(encoding='utf-8', lowercase=True)"
   ]
  },
  {
   "cell_type": "code",
   "execution_count": 9,
   "id": "a540f296",
   "metadata": {},
   "outputs": [],
   "source": [
    "my_question_vec_data= vec.fit_transform(my_question)"
   ]
  },
  {
   "cell_type": "code",
   "execution_count": 10,
   "id": "5083ab23",
   "metadata": {},
   "outputs": [
    {
     "data": {
      "text/plain": [
       "(6, 26)"
      ]
     },
     "execution_count": 10,
     "metadata": {},
     "output_type": "execute_result"
    }
   ],
   "source": [
    "my_question_vec_data.shape"
   ]
  },
  {
   "cell_type": "code",
   "execution_count": 12,
   "id": "c7d78c12",
   "metadata": {},
   "outputs": [
    {
     "data": {
      "text/plain": [
       "array([[0.        , 0.        , 0.        , 0.42720625, 0.        ,\n",
       "        0.        , 0.        , 0.        , 0.        , 0.        ,\n",
       "        0.42720625, 0.42720625, 0.42720625, 0.        , 0.        ,\n",
       "        0.        , 0.        , 0.        , 0.42720625, 0.        ,\n",
       "        0.        , 0.        , 0.        , 0.        , 0.29576019,\n",
       "        0.        ],\n",
       "       [0.44057909, 0.        , 0.        , 0.        , 0.        ,\n",
       "        0.        , 0.        , 0.36128115, 0.        , 0.44057909,\n",
       "        0.        , 0.        , 0.        , 0.        , 0.        ,\n",
       "        0.        , 0.44057909, 0.        , 0.        , 0.44057909,\n",
       "        0.        , 0.        , 0.        , 0.        , 0.30501837,\n",
       "        0.        ],\n",
       "       [0.        , 0.        , 0.33428868, 0.        , 0.        ,\n",
       "        0.40766201, 0.        , 0.        , 0.        , 0.        ,\n",
       "        0.        , 0.        , 0.        , 0.        , 0.        ,\n",
       "        0.40766201, 0.        , 0.40766201, 0.        , 0.        ,\n",
       "        0.        , 0.33428868, 0.        , 0.33428868, 0.        ,\n",
       "        0.40766201],\n",
       "       [0.        , 0.        , 0.        , 0.        , 0.        ,\n",
       "        0.        , 0.        , 0.46189963, 0.        , 0.        ,\n",
       "        0.        , 0.        , 0.        , 0.        , 0.56328241,\n",
       "        0.        , 0.        , 0.        , 0.        , 0.        ,\n",
       "        0.56328241, 0.        , 0.        , 0.        , 0.38996741,\n",
       "        0.        ],\n",
       "       [0.        , 0.        , 0.40912489, 0.        , 0.49892408,\n",
       "        0.        , 0.49892408, 0.        , 0.        , 0.        ,\n",
       "        0.        , 0.        , 0.        , 0.        , 0.        ,\n",
       "        0.        , 0.        , 0.        , 0.        , 0.        ,\n",
       "        0.        , 0.40912489, 0.        , 0.40912489, 0.        ,\n",
       "        0.        ],\n",
       "       [0.        , 0.5       , 0.        , 0.        , 0.        ,\n",
       "        0.        , 0.        , 0.        , 0.5       , 0.        ,\n",
       "        0.        , 0.        , 0.        , 0.5       , 0.        ,\n",
       "        0.        , 0.        , 0.        , 0.        , 0.        ,\n",
       "        0.        , 0.        , 0.5       , 0.        , 0.        ,\n",
       "        0.        ]])"
      ]
     },
     "execution_count": 12,
     "metadata": {},
     "output_type": "execute_result"
    }
   ],
   "source": [
    "my_question_vec_data.toarray()"
   ]
  },
  {
   "cell_type": "code",
   "execution_count": null,
   "id": "e5a7e931",
   "metadata": {},
   "outputs": [],
   "source": [
    "def get_faq_answer(user_query: str, threshold = .4) -> str:\n",
    "    query = vec.transform([user_query])\n",
    "    similarity = cosine_similarity(query, my_question_vec_data).flatten()\n",
    "    question_match = np.argmax(similarity)\n",
    "    print(question_match) # find the similar text\n",
    "    score = similarity[question_match]\n",
    "    print(score) # similarity score will be return\n",
    "\n",
    "    if score > threshold:\n",
    "        question = my_question[question_match]\n",
    "        return my_faq_data[question]\n",
    "    else:\n",
    "        return \"sorry sir! I don't have any knowledge about it. please ask anything about services\"\n"
   ]
  },
  {
   "cell_type": "code",
   "execution_count": 34,
   "id": "7c9a0609",
   "metadata": {},
   "outputs": [
    {
     "name": "stdout",
     "output_type": "stream",
     "text": [
      "1\n",
      "1.0000000000000002\n"
     ]
    },
    {
     "data": {
      "text/plain": [
       "'Yes! I want to know about your company'"
      ]
     },
     "execution_count": 34,
     "metadata": {},
     "output_type": "execute_result"
    }
   ],
   "source": [
    "get_faq_answer(\"Do you have any specific query\")"
   ]
  },
  {
   "cell_type": "code",
   "execution_count": null,
   "id": "c0e82538",
   "metadata": {},
   "outputs": [],
   "source": []
  }
 ],
 "metadata": {
  "kernelspec": {
   "display_name": "Python 3",
   "language": "python",
   "name": "python3"
  },
  "language_info": {
   "codemirror_mode": {
    "name": "ipython",
    "version": 3
   },
   "file_extension": ".py",
   "mimetype": "text/x-python",
   "name": "python",
   "nbconvert_exporter": "python",
   "pygments_lexer": "ipython3",
   "version": "3.11.4"
  }
 },
 "nbformat": 4,
 "nbformat_minor": 5
}
