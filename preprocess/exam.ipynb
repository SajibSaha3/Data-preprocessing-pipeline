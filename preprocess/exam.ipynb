{
  "nbformat": 4,
  "nbformat_minor": 0,
  "metadata": {
    "colab": {
      "provenance": []
    },
    "kernelspec": {
      "name": "python3",
      "display_name": "Python 3"
    },
    "language_info": {
      "name": "python"
    }
  },
  "cells": [
    {
      "cell_type": "code",
      "execution_count": 102,
      "metadata": {
        "colab": {
          "base_uri": "https://localhost:8080/"
        },
        "id": "WEEOFaPt3x6K",
        "outputId": "133bbe21-ebe6-4819-f04c-ffe899e1f08d"
      },
      "outputs": [
        {
          "output_type": "execute_result",
          "data": {
            "text/plain": [
              "['Hey, can u plz tell me where’s my order??i didn’t receive my parcel yet!!!!Whr’s my ordr 😡😡delivery late af... i want refund now']"
            ]
          },
          "metadata": {},
          "execution_count": 102
        }
      ],
      "source": [
        "sen = [\"Hey, can u plz tell me where’s my order??\"\n",
        "\n",
        "\"i didn’t receive my parcel yet!!!!\"\n",
        "\"Whr’s my ordr 😡😡\"\n",
        "\n",
        "\"delivery late af... i want refund now\"]\n",
        "sen"
      ]
    },
    {
      "cell_type": "markdown",
      "source": [
        "# necessary libiary"
      ],
      "metadata": {
        "id": "TDh_AqDaTLWN"
      }
    },
    {
      "cell_type": "code",
      "source": [
        "import re\n",
        "from textblob import TextBlob\n",
        "import nltk\n",
        "from nltk.corpus import stopwords,wordnet\n",
        "from nltk.tokenize import word_tokenize\n",
        "\n",
        "nltk.download(\"punkt\")\n",
        "nltk.download('stopwords')\n",
        "nltk.download('punkt_tab')\n"
      ],
      "metadata": {
        "id": "YSHxUe6Z5Dcz",
        "colab": {
          "base_uri": "https://localhost:8080/"
        },
        "outputId": "bbadf65f-dea2-4b39-d4cc-1fa573bbced1"
      },
      "execution_count": 104,
      "outputs": [
        {
          "output_type": "stream",
          "name": "stderr",
          "text": [
            "[nltk_data] Downloading package punkt to /root/nltk_data...\n",
            "[nltk_data]   Package punkt is already up-to-date!\n",
            "[nltk_data] Downloading package stopwords to /root/nltk_data...\n",
            "[nltk_data]   Package stopwords is already up-to-date!\n",
            "[nltk_data] Downloading package punkt_tab to /root/nltk_data...\n",
            "[nltk_data]   Package punkt_tab is already up-to-date!\n"
          ]
        },
        {
          "output_type": "execute_result",
          "data": {
            "text/plain": [
              "True"
            ]
          },
          "metadata": {},
          "execution_count": 104
        }
      ]
    },
    {
      "cell_type": "code",
      "source": [
        "stop_words=  set(stopwords.words(\"english\"))"
      ],
      "metadata": {
        "id": "-k2YMzdnLnrm"
      },
      "execution_count": 105,
      "outputs": []
    },
    {
      "cell_type": "markdown",
      "source": [
        "# abbrebiations and slang remove"
      ],
      "metadata": {
        "id": "DyYq2UNZTSzq"
      }
    },
    {
      "cell_type": "code",
      "source": [
        "def decontracted(phrase):\n",
        "    # Normalize spacing\n",
        "    phrase = re.sub(r'\\s+', ' ', phrase).strip()\n",
        "\n",
        "    # Common informal contractions\n",
        "    phrase = re.sub(r'\\bu\\b', 'you', phrase)\n",
        "    phrase = re.sub(r'\\bdidn\\s?t\\b', 'did not', phrase)\n",
        "    phrase = re.sub(r'\\bwhere\\s?s\\b', 'where is', phrase, flags=re.IGNORECASE)\n",
        "    phrase = re.sub(r'\\bwhr\\s?s\\b', 'where is', phrase, flags=re.IGNORECASE)\n",
        "    phrase = re.sub(r'\\bordr\\b', 'order', phrase)\n",
        "    phrase = re.sub(r'\\baf\\b', '', phrase)  #slang remove here\n",
        "    phrase = re.sub(r'\\bplz\\b', 'please', phrase)\n",
        "    phrase = re.sub(r\"\\bi\\s+want\\s+refund\\b\", \"I want a refund\", phrase, flags=re.IGNORECASE)\n",
        "\n",
        "    return phrase\n"
      ],
      "metadata": {
        "id": "ba8391naHd2h"
      },
      "execution_count": 107,
      "outputs": []
    },
    {
      "cell_type": "markdown",
      "source": [
        "# For emojies"
      ],
      "metadata": {
        "id": "PslMzOixCfCe"
      }
    },
    {
      "cell_type": "code",
      "source": [
        "def remove_emo(text):\n",
        "    # Pattern for emojis\n",
        "    emoji_pattern = re.compile(\"[\\U0001F600-\\U0001F64F]\", flags=re.UNICODE)\n",
        "    # Removing emojis from the text\n",
        "    return emoji_pattern.sub(r'', text)"
      ],
      "metadata": {
        "id": "4oZcz-eX9Cuo"
      },
      "execution_count": 108,
      "outputs": []
    },
    {
      "cell_type": "markdown",
      "source": [
        "# lemmatizing the word to extract accurate meaning"
      ],
      "metadata": {
        "id": "CwR1dxF0OHcM"
      }
    },
    {
      "cell_type": "code",
      "source": [
        "import spacy\n",
        "nlp= spacy.load(\"en_core_web_sm\")"
      ],
      "metadata": {
        "id": "qO-v1XJlOF_t"
      },
      "execution_count": 109,
      "outputs": []
    },
    {
      "cell_type": "code",
      "source": [
        "def preprocessing(sentences):\n",
        "    cleaned_text = []\n",
        "    for sentence in sentences:\n",
        "        # Remove punctuation\n",
        "        sentence = re.sub(r'[^\\w\\s]', \" \", sentence)\n",
        "        # Expand contractions\n",
        "        sentence = decontracted(sentence)\n",
        "        # Remove emoticons (emoji)\n",
        "        sentence = remove_emo(sentence)\n",
        "        sentence = str(TextBlob(sentence).correct())\n",
        "        tokens= word_tokenize(sentence)\n",
        "        final_words = nlp(sentence)\n",
        "        lemma_tok= [tokens.lemma_ for tokens in final_words]\n",
        "        final_sen= \" \".join(lemma_tok)\n",
        "        cleaned_text.append(final_sen)\n",
        "    return cleaned_text\n",
        "\n",
        "preprocessing(sen)"
      ],
      "metadata": {
        "colab": {
          "base_uri": "https://localhost:8080/"
        },
        "id": "WLv_dQDm388-",
        "outputId": "2aa0215e-3918-426b-c108-70ffd957fa9e"
      },
      "execution_count": 112,
      "outputs": [
        {
          "output_type": "execute_result",
          "data": {
            "text/plain": [
              "['key can you please tell I where be my order I do not receive my parcel yet where be my order delivery late   I want a refund now']"
            ]
          },
          "metadata": {},
          "execution_count": 112
        }
      ]
    },
    {
      "cell_type": "markdown",
      "source": [
        "# after using stopwords"
      ],
      "metadata": {
        "id": "qzGYW2sYQtNV"
      }
    },
    {
      "cell_type": "code",
      "source": [
        "\n",
        "sen = 'key can you please tell I where be my order I do not receive my parcel yet where be my order delivery late I want a refund now'\n",
        "tokens = word_tokenize(sen)\n",
        "clean_word= [word for word in tokens if word not in stop_words]\n",
        "\" \".join(clean_word)\n",
        "\n"
      ],
      "metadata": {
        "id": "f3OFM3cO4uBW",
        "colab": {
          "base_uri": "https://localhost:8080/",
          "height": 35
        },
        "outputId": "d5172c8e-b9a6-4306-9d83-030278f3f741"
      },
      "execution_count": 113,
      "outputs": [
        {
          "output_type": "execute_result",
          "data": {
            "text/plain": [
              "'key please tell I order I receive parcel yet order delivery late I want refund'"
            ],
            "application/vnd.google.colaboratory.intrinsic+json": {
              "type": "string"
            }
          },
          "metadata": {},
          "execution_count": 113
        }
      ]
    },
    {
      "cell_type": "markdown",
      "source": [
        "# could not use stopword as beacuse the actual meaning of the sentence is going missed"
      ],
      "metadata": {
        "id": "BMIBOg5PSwGV"
      }
    },
    {
      "cell_type": "code",
      "source": [],
      "metadata": {
        "id": "VIBa2y07Q1LD"
      },
      "execution_count": null,
      "outputs": []
    }
  ]
}